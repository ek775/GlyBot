{
 "cells": [
  {
   "cell_type": "code",
   "execution_count": 41,
   "metadata": {},
   "outputs": [],
   "source": [
    "import re \n",
    "import pandas as pd"
   ]
  },
  {
   "cell_type": "code",
   "execution_count": 42,
   "metadata": {},
   "outputs": [
    {
     "data": {
      "text/html": [
       "<div>\n",
       "<style scoped>\n",
       "    .dataframe tbody tr th:only-of-type {\n",
       "        vertical-align: middle;\n",
       "    }\n",
       "\n",
       "    .dataframe tbody tr th {\n",
       "        vertical-align: top;\n",
       "    }\n",
       "\n",
       "    .dataframe thead th {\n",
       "        text-align: right;\n",
       "    }\n",
       "</style>\n",
       "<table border=\"1\" class=\"dataframe\">\n",
       "  <thead>\n",
       "    <tr style=\"text-align: right;\">\n",
       "      <th></th>\n",
       "      <th>text</th>\n",
       "    </tr>\n",
       "  </thead>\n",
       "  <tbody>\n",
       "    <tr>\n",
       "      <th>0</th>\n",
       "      <td>\\n</td>\n",
       "    </tr>\n",
       "    <tr>\n",
       "      <th>1</th>\n",
       "      <td>Warning:\\n</td>\n",
       "    </tr>\n",
       "    <tr>\n",
       "      <th>2</th>\n",
       "      <td>\\tThe NCBI web site requires JavaScript to fun...</td>\n",
       "    </tr>\n",
       "    <tr>\n",
       "      <th>3</th>\n",
       "      <td>\\tmore...\\n</td>\n",
       "    </tr>\n",
       "    <tr>\n",
       "      <th>4</th>\n",
       "      <td>An official website of the United States gover...</td>\n",
       "    </tr>\n",
       "  </tbody>\n",
       "</table>\n",
       "</div>"
      ],
      "text/plain": [
       "                                                text\n",
       "0                                                 \\n\n",
       "1                                         Warning:\\n\n",
       "2  \\tThe NCBI web site requires JavaScript to fun...\n",
       "3                                        \\tmore...\\n\n",
       "4  An official website of the United States gover..."
      ]
     },
     "execution_count": 42,
     "metadata": {},
     "output_type": "execute_result"
    }
   ],
   "source": [
    "#load 'dirty' text\n",
    "with open('Essentials of Glycobiology.txt', 'r') as file:\n",
    "    text = [pd.DataFrame({'text': line}, index=[0]) for line in file]\n",
    "    text = pd.concat(text, ignore_index=True)\n",
    "text.head()"
   ]
  },
  {
   "cell_type": "code",
   "execution_count": 43,
   "metadata": {},
   "outputs": [],
   "source": [
    "for i in text.index:\n",
    "    text.loc[i, 'text'] = re.sub(r'\\n', ' ', text.loc[i, 'text'])\n",
    "    text.loc[i, 'text'] = re.sub(r'\\s+', ' ', text.loc[i, 'text'])"
   ]
  },
  {
   "cell_type": "code",
   "execution_count": 44,
   "metadata": {},
   "outputs": [
    {
     "data": {
      "text/plain": [
       "''"
      ]
     },
     "execution_count": 44,
     "metadata": {},
     "output_type": "execute_result"
    }
   ],
   "source": [
    "text = text.map(lambda x: x.strip())\n",
    "text['text'][0]"
   ]
  },
  {
   "cell_type": "code",
   "execution_count": 45,
   "metadata": {},
   "outputs": [],
   "source": [
    "repeats = text.value_counts().index[text.value_counts() > 1].tolist()\n",
    "repeats = [t[0] for t in repeats]"
   ]
  },
  {
   "cell_type": "code",
   "execution_count": 46,
   "metadata": {},
   "outputs": [
    {
     "data": {
      "text/plain": [
       "['',\n",
       " 'government site.',\n",
       " 'Accessibility',\n",
       " 'The https:// ensures that you are connecting to the',\n",
       " 'An official website of the United States government',\n",
       " 'The site is secure.',\n",
       " 'Bethesda, MD 20894Web Policies',\n",
       " \"The .gov means it's official.\",\n",
       " 'Warning:',\n",
       " 'Careers',\n",
       " 'The NCBI web site requires JavaScript to function.',\n",
       " 'and transmitted securely.',\n",
       " '8600 Rockville Pike',\n",
       " 'HHS Vulnerability DisclosureHelp',\n",
       " \"sharing sensitive information, make sure you're on a federal\",\n",
       " 'Federal government websites often end in .gov or .mil. Before',\n",
       " 'FOIA',\n",
       " 'official website and that any information you provide is encrypted',\n",
       " 'more...',\n",
       " 'NCBI Bookshelf. A service of the National Library of Medicine, National Institutes of Health.Varki A, Cummings RD, Esko JD, et al., editors. Essentials of Glycobiology [Internet]. 4th edition. Cold Spring Harbor (NY): Cold Spring Harbor Laboratory Press; 2022. Sneha Sudha Komath, Morihisa Fujita, Gerald W Hart, Michael AJ Ferguson, and Taroh Kinoshita.AuthorsSneha Sudha Komath, Morihisa Fujita, Gerald W Hart, Michael AJ Ferguson, and Taroh Kinoshita1.',\n",
       " 'The content of this book is licensed under a Creative Commons Attribution-NonCommercial-NoDerivs 4.0 Unported license. To view the terms and conditions of this license, visit https://creativecommons.org/licenses/by-nc-nd/4.0/Your browsing activity is empty.Activity recording is turned off.Turn recording back onConnect with NLMNational Library of Medicine']"
      ]
     },
     "execution_count": 46,
     "metadata": {},
     "output_type": "execute_result"
    }
   ],
   "source": [
    "repeats"
   ]
  },
  {
   "cell_type": "code",
   "execution_count": 47,
   "metadata": {},
   "outputs": [
    {
     "data": {
      "text/plain": [
       "''"
      ]
     },
     "execution_count": 47,
     "metadata": {},
     "output_type": "execute_result"
    }
   ],
   "source": [
    "text['text'][0]"
   ]
  },
  {
   "cell_type": "code",
   "execution_count": 48,
   "metadata": {},
   "outputs": [
    {
     "data": {
      "text/html": [
       "<div>\n",
       "<style scoped>\n",
       "    .dataframe tbody tr th:only-of-type {\n",
       "        vertical-align: middle;\n",
       "    }\n",
       "\n",
       "    .dataframe tbody tr th {\n",
       "        vertical-align: top;\n",
       "    }\n",
       "\n",
       "    .dataframe thead th {\n",
       "        text-align: right;\n",
       "    }\n",
       "</style>\n",
       "<table border=\"1\" class=\"dataframe\">\n",
       "  <thead>\n",
       "    <tr style=\"text-align: right;\">\n",
       "      <th></th>\n",
       "      <th>text</th>\n",
       "    </tr>\n",
       "  </thead>\n",
       "  <tbody>\n",
       "    <tr>\n",
       "      <th>16</th>\n",
       "      <td>NCBI Bookshelf. A service of the National Libr...</td>\n",
       "    </tr>\n",
       "    <tr>\n",
       "      <th>17</th>\n",
       "      <td>Pentoses: five-carbon neutral sugars—D-xylose ...</td>\n",
       "    </tr>\n",
       "    <tr>\n",
       "      <th>18</th>\n",
       "      <td>11: 248–255; Fuster M, Esko JD. 2005. Nat Rev Can</td>\n",
       "    </tr>\n",
       "    <tr>\n",
       "      <th>19</th>\n",
       "      <td>7: 526–542, with permission from Springer Natu...</td>\n",
       "    </tr>\n",
       "    <tr>\n",
       "      <th>20</th>\n",
       "      <td>12: 43R–56R.) Diagrammatic representation of s...</td>\n",
       "    </tr>\n",
       "    <tr>\n",
       "      <th>...</th>\n",
       "      <td>...</td>\n",
       "    </tr>\n",
       "    <tr>\n",
       "      <th>1891</th>\n",
       "      <td>230350</td>\n",
       "    </tr>\n",
       "    <tr>\n",
       "      <th>1893</th>\n",
       "      <td>229600</td>\n",
       "    </tr>\n",
       "    <tr>\n",
       "      <th>1894</th>\n",
       "      <td>*, to be published soon; **, ongoing discussio...</td>\n",
       "    </tr>\n",
       "    <tr>\n",
       "      <th>1917</th>\n",
       "      <td>NCBI Bookshelf. A service of the National Libr...</td>\n",
       "    </tr>\n",
       "    <tr>\n",
       "      <th>1918</th>\n",
       "      <td>25: 1323–1324. (PMID 26543186). Neelamegham, S...</td>\n",
       "    </tr>\n",
       "  </tbody>\n",
       "</table>\n",
       "<p>229 rows × 1 columns</p>\n",
       "</div>"
      ],
      "text/plain": [
       "                                                   text\n",
       "16    NCBI Bookshelf. A service of the National Libr...\n",
       "17    Pentoses: five-carbon neutral sugars—D-xylose ...\n",
       "18    11: 248–255; Fuster M, Esko JD. 2005. Nat Rev Can\n",
       "19    7: 526–542, with permission from Springer Natu...\n",
       "20    12: 43R–56R.) Diagrammatic representation of s...\n",
       "...                                                 ...\n",
       "1891                                             230350\n",
       "1893                                             229600\n",
       "1894  *, to be published soon; **, ongoing discussio...\n",
       "1917  NCBI Bookshelf. A service of the National Libr...\n",
       "1918  25: 1323–1324. (PMID 26543186). Neelamegham, S...\n",
       "\n",
       "[229 rows x 1 columns]"
      ]
     },
     "execution_count": 48,
     "metadata": {},
     "output_type": "execute_result"
    }
   ],
   "source": [
    "text = text.drop(text[text['text'].isin(repeats)].index)\n",
    "text"
   ]
  },
  {
   "cell_type": "code",
   "execution_count": 49,
   "metadata": {},
   "outputs": [
    {
     "data": {
      "text/html": [
       "<div>\n",
       "<style scoped>\n",
       "    .dataframe tbody tr th:only-of-type {\n",
       "        vertical-align: middle;\n",
       "    }\n",
       "\n",
       "    .dataframe tbody tr th {\n",
       "        vertical-align: top;\n",
       "    }\n",
       "\n",
       "    .dataframe thead th {\n",
       "        text-align: right;\n",
       "    }\n",
       "</style>\n",
       "<table border=\"1\" class=\"dataframe\">\n",
       "  <thead>\n",
       "    <tr style=\"text-align: right;\">\n",
       "      <th></th>\n",
       "      <th>text</th>\n",
       "    </tr>\n",
       "  </thead>\n",
       "  <tbody>\n",
       "    <tr>\n",
       "      <th>0</th>\n",
       "      <td>NCBI Bookshelf. A service of the National Libr...</td>\n",
       "    </tr>\n",
       "    <tr>\n",
       "      <th>1</th>\n",
       "      <td>Pentoses: five-carbon neutral sugars—D-xylose ...</td>\n",
       "    </tr>\n",
       "    <tr>\n",
       "      <th>2</th>\n",
       "      <td>11: 248–255; Fuster M, Esko JD. 2005. Nat Rev Can</td>\n",
       "    </tr>\n",
       "    <tr>\n",
       "      <th>3</th>\n",
       "      <td>7: 526–542, with permission from Springer Natu...</td>\n",
       "    </tr>\n",
       "    <tr>\n",
       "      <th>4</th>\n",
       "      <td>12: 43R–56R.) Diagrammatic representation of s...</td>\n",
       "    </tr>\n",
       "    <tr>\n",
       "      <th>...</th>\n",
       "      <td>...</td>\n",
       "    </tr>\n",
       "    <tr>\n",
       "      <th>224</th>\n",
       "      <td>230350</td>\n",
       "    </tr>\n",
       "    <tr>\n",
       "      <th>225</th>\n",
       "      <td>229600</td>\n",
       "    </tr>\n",
       "    <tr>\n",
       "      <th>226</th>\n",
       "      <td>*, to be published soon; **, ongoing discussio...</td>\n",
       "    </tr>\n",
       "    <tr>\n",
       "      <th>227</th>\n",
       "      <td>NCBI Bookshelf. A service of the National Libr...</td>\n",
       "    </tr>\n",
       "    <tr>\n",
       "      <th>228</th>\n",
       "      <td>25: 1323–1324. (PMID 26543186). Neelamegham, S...</td>\n",
       "    </tr>\n",
       "  </tbody>\n",
       "</table>\n",
       "<p>229 rows × 1 columns</p>\n",
       "</div>"
      ],
      "text/plain": [
       "                                                  text\n",
       "0    NCBI Bookshelf. A service of the National Libr...\n",
       "1    Pentoses: five-carbon neutral sugars—D-xylose ...\n",
       "2    11: 248–255; Fuster M, Esko JD. 2005. Nat Rev Can\n",
       "3    7: 526–542, with permission from Springer Natu...\n",
       "4    12: 43R–56R.) Diagrammatic representation of s...\n",
       "..                                                 ...\n",
       "224                                             230350\n",
       "225                                             229600\n",
       "226  *, to be published soon; **, ongoing discussio...\n",
       "227  NCBI Bookshelf. A service of the National Libr...\n",
       "228  25: 1323–1324. (PMID 26543186). Neelamegham, S...\n",
       "\n",
       "[229 rows x 1 columns]"
      ]
     },
     "execution_count": 49,
     "metadata": {},
     "output_type": "execute_result"
    }
   ],
   "source": [
    "text.reset_index(drop=True, inplace=True)\n",
    "text"
   ]
  },
  {
   "cell_type": "code",
   "execution_count": 50,
   "metadata": {},
   "outputs": [
    {
     "data": {
      "text/plain": [
       "2006978"
      ]
     },
     "execution_count": 50,
     "metadata": {},
     "output_type": "execute_result"
    }
   ],
   "source": [
    "book = ''.join(text['text'])\n",
    "len(book)"
   ]
  },
  {
   "cell_type": "code",
   "execution_count": 51,
   "metadata": {},
   "outputs": [
    {
     "name": "stderr",
     "output_type": "stream",
     "text": [
      "[nltk_data] Downloading package punkt to /home/ek224/nltk_data...\n",
      "[nltk_data]   Package punkt is already up-to-date!\n"
     ]
    },
    {
     "data": {
      "text/plain": [
       "True"
      ]
     },
     "execution_count": 51,
     "metadata": {},
     "output_type": "execute_result"
    }
   ],
   "source": [
    "import nltk\n",
    "nltk.download('punkt')"
   ]
  },
  {
   "cell_type": "code",
   "execution_count": 52,
   "metadata": {},
   "outputs": [
    {
     "data": {
      "text/plain": [
       "325884"
      ]
     },
     "execution_count": 52,
     "metadata": {},
     "output_type": "execute_result"
    }
   ],
   "source": [
    "len(nltk.tokenize.word_tokenize(book))"
   ]
  },
  {
   "cell_type": "code",
   "execution_count": 53,
   "metadata": {},
   "outputs": [
    {
     "data": {
      "text/plain": [
       "215    Salt and pepper syndromesevere ID, epilepsy, s...\n",
       "216                                       PMID: 24026681\n",
       "217                                       PMID: 28584052\n",
       "218                                               610442\n",
       "219                                               N/AN/A\n",
       "220                                               618360\n",
       "221                    Epilepsy, progressive myoclonic 6\n",
       "222                                               614018\n",
       "223                                               230400\n",
       "224                                               230350\n",
       "225                                               229600\n",
       "226    *, to be published soon; **, ongoing discussio...\n",
       "227    NCBI Bookshelf. A service of the National Libr...\n",
       "228    25: 1323–1324. (PMID 26543186). Neelamegham, S...\n",
       "Name: text, dtype: object"
      ]
     },
     "execution_count": 53,
     "metadata": {},
     "output_type": "execute_result"
    }
   ],
   "source": [
    "text['text'][215:230]"
   ]
  },
  {
   "cell_type": "code",
   "execution_count": 55,
   "metadata": {},
   "outputs": [
    {
     "data": {
      "text/html": [
       "<div>\n",
       "<style scoped>\n",
       "    .dataframe tbody tr th:only-of-type {\n",
       "        vertical-align: middle;\n",
       "    }\n",
       "\n",
       "    .dataframe tbody tr th {\n",
       "        vertical-align: top;\n",
       "    }\n",
       "\n",
       "    .dataframe thead th {\n",
       "        text-align: right;\n",
       "    }\n",
       "</style>\n",
       "<table border=\"1\" class=\"dataframe\">\n",
       "  <thead>\n",
       "    <tr style=\"text-align: right;\">\n",
       "      <th></th>\n",
       "      <th>text</th>\n",
       "    </tr>\n",
       "  </thead>\n",
       "  <tbody>\n",
       "    <tr>\n",
       "      <th>0</th>\n",
       "      <td>NCBI Bookshelf. A service of the National Libr...</td>\n",
       "    </tr>\n",
       "    <tr>\n",
       "      <th>1</th>\n",
       "      <td>Pentoses: five-carbon neutral sugars—D-xylose ...</td>\n",
       "    </tr>\n",
       "    <tr>\n",
       "      <th>3</th>\n",
       "      <td>7: 526–542, with permission from Springer Natu...</td>\n",
       "    </tr>\n",
       "    <tr>\n",
       "      <th>4</th>\n",
       "      <td>12: 43R–56R.) Diagrammatic representation of s...</td>\n",
       "    </tr>\n",
       "    <tr>\n",
       "      <th>5</th>\n",
       "      <td>NCBI Bookshelf. A service of the National Libr...</td>\n",
       "    </tr>\n",
       "    <tr>\n",
       "      <th>...</th>\n",
       "      <td>...</td>\n",
       "    </tr>\n",
       "    <tr>\n",
       "      <th>151</th>\n",
       "      <td>NCBI Bookshelf. A service of the National Libr...</td>\n",
       "    </tr>\n",
       "    <tr>\n",
       "      <th>215</th>\n",
       "      <td>Salt and pepper syndromesevere ID, epilepsy, s...</td>\n",
       "    </tr>\n",
       "    <tr>\n",
       "      <th>226</th>\n",
       "      <td>*, to be published soon; **, ongoing discussio...</td>\n",
       "    </tr>\n",
       "    <tr>\n",
       "      <th>227</th>\n",
       "      <td>NCBI Bookshelf. A service of the National Libr...</td>\n",
       "    </tr>\n",
       "    <tr>\n",
       "      <th>228</th>\n",
       "      <td>25: 1323–1324. (PMID 26543186). Neelamegham, S...</td>\n",
       "    </tr>\n",
       "  </tbody>\n",
       "</table>\n",
       "<p>129 rows × 1 columns</p>\n",
       "</div>"
      ],
      "text/plain": [
       "                                                  text\n",
       "0    NCBI Bookshelf. A service of the National Libr...\n",
       "1    Pentoses: five-carbon neutral sugars—D-xylose ...\n",
       "3    7: 526–542, with permission from Springer Natu...\n",
       "4    12: 43R–56R.) Diagrammatic representation of s...\n",
       "5    NCBI Bookshelf. A service of the National Libr...\n",
       "..                                                 ...\n",
       "151  NCBI Bookshelf. A service of the National Libr...\n",
       "215  Salt and pepper syndromesevere ID, epilepsy, s...\n",
       "226  *, to be published soon; **, ongoing discussio...\n",
       "227  NCBI Bookshelf. A service of the National Libr...\n",
       "228  25: 1323–1324. (PMID 26543186). Neelamegham, S...\n",
       "\n",
       "[129 rows x 1 columns]"
      ]
     },
     "execution_count": 55,
     "metadata": {},
     "output_type": "execute_result"
    }
   ],
   "source": [
    "text.drop(text[text['text'].str.len() < 100].index, inplace=True)\n",
    "text"
   ]
  },
  {
   "cell_type": "code",
   "execution_count": 56,
   "metadata": {},
   "outputs": [
    {
     "data": {
      "text/plain": [
       "2004307"
      ]
     },
     "execution_count": 56,
     "metadata": {},
     "output_type": "execute_result"
    }
   ],
   "source": [
    "book = ''.join(text['text'])\n",
    "len(book)"
   ]
  },
  {
   "cell_type": "code",
   "execution_count": 57,
   "metadata": {},
   "outputs": [
    {
     "data": {
      "text/plain": [
       "325558"
      ]
     },
     "execution_count": 57,
     "metadata": {},
     "output_type": "execute_result"
    }
   ],
   "source": [
    "len(nltk.tokenize.word_tokenize(book))"
   ]
  },
  {
   "cell_type": "code",
   "execution_count": 58,
   "metadata": {},
   "outputs": [
    {
     "data": {
      "text/plain": [
       "72"
      ]
     },
     "execution_count": 58,
     "metadata": {},
     "output_type": "execute_result"
    }
   ],
   "source": [
    "book.count('The content of this book is licensed under a Creative Commons Attribution-NonCommercial-NoDerivs 4.0 Unported license. To view the terms and conditions of this license, visit https://creativecommons.org/licenses/by-nc-nd/4.0/Your browsing activity is empty.Activity recording is turned off.Turn recording back onConnect with NLMNational Library of Medicine')"
   ]
  },
  {
   "cell_type": "code",
   "execution_count": 59,
   "metadata": {},
   "outputs": [],
   "source": [
    "license_statement = 'The content of this book is licensed under a Creative Commons Attribution-NonCommercial-NoDerivs 4.0 Unported license. To view the terms and conditions of this license, visit https://creativecommons.org/licenses/by-nc-nd/4.0/Your browsing activity is empty.Activity recording is turned off.Turn recording back onConnect with NLMNational Library of Medicine'\n",
    "book = book.replace(license_statement, ' ')"
   ]
  },
  {
   "cell_type": "code",
   "execution_count": 60,
   "metadata": {},
   "outputs": [],
   "source": [
    "with open('essentials_of_glycobiology_cleaned.txt', 'w') as file:\n",
    "    file.write(book)"
   ]
  },
  {
   "cell_type": "code",
   "execution_count": null,
   "metadata": {},
   "outputs": [],
   "source": []
  }
 ],
 "metadata": {
  "kernelspec": {
   "display_name": "glybot",
   "language": "python",
   "name": "python3"
  },
  "language_info": {
   "codemirror_mode": {
    "name": "ipython",
    "version": 3
   },
   "file_extension": ".py",
   "mimetype": "text/x-python",
   "name": "python",
   "nbconvert_exporter": "python",
   "pygments_lexer": "ipython3",
   "version": "3.12.3"
  }
 },
 "nbformat": 4,
 "nbformat_minor": 2
}
